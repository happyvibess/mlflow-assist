{
 "cells": [
  {
   "cell_type": "markdown",
   "metadata": {},
   "source": [
    "# LLM Chains and Prompt Engineering\n",
    "\n",
    "This notebook demonstrates advanced LLM capabilities using MLFlow-Assist's chain management and prompt engineering tools.\n",
    "\n",
    "[![Buy me a coffee](https://img.shields.io/badge/Buy%20me%20a%20coffee-happyvibess-orange)](https://www.buymeacoffee.com/happyvibess)"
   ]
  },
  {
   "cell_type": "code",
   "execution_count": null,
   "metadata": {},
   "source": [
    "from mlflow_assist.advanced.llm_chains import LLMChain, PromptTemplate"
   ]
  },
  {
   "cell_type": "markdown",
   "metadata": {},
   "source": [
    "## Initialize LLM Chain"
   ]
  },
  {
   "cell_type": "code",
   "execution_count": null,
   "metadata": {},
   "source": [
    "chain = LLMChain(\n",
    "    model_name=\"gpt-3.5-turbo\",\n",
    "    temperature=0.7,\n",
    "    max_length=512\n",
    ")"
   ]
  },
  {
   "cell_type": "markdown",
   "metadata": {},
   "source": [
    "## Create Prompt Template"
   ]
  },
  {
   "cell_type": "code",
   "execution_count": null,
   "metadata": {},
   "source": [
    "template = PromptTemplate(\n",
    "    template=\"\"\"Context: {context}\n",
    "Question: {question}\n",
    "Provide a detailed answer with examples:\"\"\",\n",
    "    input_variables=[\"context\", \"question\"]\n",
    ")\n",
    "\n",
    "chain.add_prompt_template(template)"
   ]
  },
  {
   "cell_type": "markdown",
   "metadata": {},
   "source": [
    "## Generate Responses"
   ]
  },
  {
   "cell_type": "code",
   "execution_count": null,
   "metadata": {},
   "source": [
    "response = chain.generate({\n",
    "    \"context\": \"Machine learning is a branch of artificial intelligence focused on building systems that learn from data.\",\n",
    "    \"question\": \"What are the main types of machine learning?\"\n",
    "})\n",
    "\n",
    "print(response)"
   ]
  },
  {
   "cell_type": "markdown",
   "metadata": {},
   "source": [
    "## Create Multi-Step Chain"
   ]
  },
  {
   "cell_type": "code",
   "execution_count": null,
   "metadata": {},
   "source": [
    "steps = [\n",
    "    {\n",
    "        \"template\": \"Summarize this text in one sentence: {text}\",\n",
    "        \"use_response_as_input\": True\n",
    "    },\n",
    "    {\n",
    "        \"template\": \"Extract key points from this summary: {text}\",\n",
    "        \"use_response_as_input\": True\n",
    "    },\n",
    "    {\n",
    "        \"template\": \"Generate action items based on these points: {text}\"\n",
    "    }\n",
    "]\n",
    "\n",
    "pipeline = chain.create_chain(steps)\n",
    "results = pipeline.execute({\n",
    "    \"text\": \"Your long text here...\"\n",
    "})\n",
    "\n",
    "for i, result in enumerate(results, 1):\n",
    "    print(f\"Step {i}:\\n{result}\\n\")"
   ]
  }
 ],
 "metadata": {
  "kernelspec": {
   "display_name": "Python 3",
   "language": "python",
   "name": "python3"
  }
 }
}

