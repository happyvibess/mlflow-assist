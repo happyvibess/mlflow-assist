{
 "cells": [
  {
   "cell_type": "markdown",
   "metadata": {},
   "source": [
    "# Complete Beginner's Guide to MLFlow-Assist 🚀\n",
    "\n",
    "Welcome! This notebook will walk you through using MLFlow-Assist for both machine learning and language model tasks. We'll use real data and show you practical examples.\n",
    "\n",
    "[![\"Buy Me A Coffee\"](https://www.buymeacoffee.com/assets/img/custom_images/orange_img.png)](https://www.buymeacoffee.com/happyvibess)\n",
    "\n",
    "## What We'll Cover:\n",
    "1. Setting up MLFlow-Assist\n",
    "2. Loading and preparing data\n",
    "3. Building an ML model automatically\n",
    "4. Using language models\n",
    "5. Monitoring our model's performance"
   ]
  },
  {
   "cell_type": "markdown",
   "metadata": {},
   "source": [
    "## 1. Setup\n",
    "\n",
    "First, let's import everything we need:"
   ]
  },
  {
   "cell_type": "code",
   "execution_count": null,
   "metadata": {},
   "source": [
    "# Core libraries\n",
    "import pandas as pd\n",
    "from sklearn.datasets import load_iris\n",
    "from sklearn.model_selection import train_test_split\n",
    "\n",
    "# MLFlow-Assist components\n",
    "from mlflow_assist.advanced.automl import AutoML, AutoMLConfig\n",
    "from mlflow_assist.advanced.llm_chains import LLMChain\n",
    "from mlflow_assist.enterprise.monitoring import PerformanceMonitor"
   ]
  },
  {
   "cell_type": "markdown",
   "metadata": {},
   "source": [
    "## 2. Getting Our Data Ready\n",
    "\n",
    "We'll use the famous iris dataset - it's perfect for learning because it's real but simple:"
   ]
  },
  {
   "cell_type": "code",
   "execution_count": null,
   "metadata": {},
   "source": [
    "# Load the iris dataset\n",
    "iris = load_iris()\n",
    "X = pd.DataFrame(iris.data, columns=iris.feature_names)\n",
    "y = pd.Series(iris.target, name='species')\n",
    "\n",
    "# Look at our data\n",
    "print(\"Here's what our data looks like:\")\n",
    "print(X.head())\n",
    "print(\"\\nWe're trying to predict these flower types:\")\n",
    "print(iris.target_names)"
   ]
  },
  {
   "cell_type": "code",
   "execution_count": null,
   "metadata": {},
   "source": [
    "# Split data for training and testing\n",
    "X_train, X_test, y_train, y_test = train_test_split(\n",
    "    X, y, test_size=0.2, random_state=42\n",
    ")"
   ]
  },
  {
   "cell_type": "markdown",
   "metadata": {},
   "source": [
    "## 3. Automatic Machine Learning\n",
    "\n",
    "Now comes the fun part! We'll let MLFlow-Assist find the best model automatically:"
   ]
  },
  {
   "cell_type": "code",
   "execution_count": null,
   "metadata": {},
   "source": [
    "# Create an AutoML instance\n",
    "automl = AutoML(\n",
    "    AutoMLConfig(\n",
    "        task_type=\"classification\",  # We're classifying flower types\n",
    "        max_trials=10,  # Try 10 different models\n",
    "        metric=\"accuracy\"  # Optimize for accuracy\n",
    "    )\n",
    ")\n",
    "\n",
    "# Find the best model\n",
    "print(\"🔍 Searching for the best model...\")\n",
    "best_model = automl.optimize(X_train, y_train)\n",
    "\n",
    "# Make predictions\n",
    "predictions = best_model.predict(X_test)\n",
    "print(f\"\\n✨ Model accuracy: {best_model.score(X_test, y_test):.2%}\")"
   ]
  },
  {
   "cell_type": "markdown",
   "metadata": {},
   "source": [
    "## 4. Using Language Models\n",
    "\n",
    "Let's use an LLM to explain our predictions in plain English:"
   ]
  },
  {
   "cell_type": "code",
   "execution_count": null,
   "metadata": {},
   "source": [
    "# Create an LLM chain\n",
    "chain = LLMChain(\"gpt-3.5-turbo\")\n",
    "\n",
    "# Set up our prompt template\n",
    "chain.add_prompt_template(\"\"\"\n",
    "Given these iris flower measurements:\n",
    "- Sepal length: {sepal_length}\n",
    "- Sepal width: {sepal_width}\n",
    "- Petal length: {petal_length}\n",
    "- Petal width: {petal_width}\n",
    "\n",
    "The model predicted this is a {prediction} iris flower.\n",
    "Explain why this prediction makes sense in simple terms.\n",
    "\"\"\")\n",
    "\n",
    "# Get an explanation for the first prediction\n",
    "sample = X_test.iloc[0]\n",
    "explanation = chain.generate({\n",
    "    \"sepal_length\": sample[\"sepal length (cm)\"],\n",
    "    \"sepal_width\": sample[\"sepal width (cm)\"],\n",
    "    \"petal_length\": sample[\"petal length (cm)\"],\n",
    "    \"petal_width\": sample[\"petal width (cm)\"],\n",
    "    \"prediction\": iris.target_names[predictions[0]]\n",
    "})\n",
    "\n",
    "print(\"🤖 AI Explanation:\")\n",
    "print(explanation)"
   ]
  },
  {
   "cell_type": "markdown",
   "metadata": {},
   "source": [
    "## 5. Monitoring Performance\n",
    "\n",
    "Finally, let's set up monitoring to track how our model performs:"
   ]
  },
  {
   "cell_type": "code",
   "execution_count": null,
   "metadata": {},
   "source": [
    "# Create a monitor\n",
    "monitor = PerformanceMonitor()\n",
    "\n",
    "# Start tracking performance\n",
    "monitor.track_model(\n",
    "    model=best_model,\n",
    "    data=X_test,\n",
    "    predictions=predictions,\n",
    "    actual=y_test\n",
    ")\n",
    "\n",
    "# Get performance metrics\n",
    "metrics = monitor.analyze_performance(timeframe=\"1h\")\n",
    "print(\"📊 Model Performance Metrics:\")\n",
    "for metric, value in metrics.items():\n",
    "    print(f\"{metric}: {value:.2f}\")"
   ]
  },
  {
   "cell_type": "markdown",
   "metadata": {},
   "source": [
    "## 🎉 Congratulations!\n",
    "\n",
    "You've just:\n",
    "1. Built an ML model automatically\n",
    "2. Used AI to explain predictions\n",
    "3. Set up performance monitoring\n",
    "\n",
    "### Next Steps:\n",
    "- Try with your own dataset\n",
    "- Experiment with different model types\n",
    "- Check out advanced features in other notebooks\n",
    "\n",
    "### Need Help?\n",
    "- Visit our [documentation](../docs/)\n",
    "- Join our [community discussions](https://github.com/happyvibess/mlflow-assist/discussions)\n",
    "- Report issues on [GitHub](https://github.com/happyvibess/mlflow-assist/issues)\n",
    "\n",
    "If this guide helped you, consider [buying me a coffee](https://www.buymeacoffee.com/happyvibess) ☕️"
   ]
  }
 ],
 "metadata": {
  "kernelspec": {
   "display_name": "Python 3",
   "language": "python",
   "name": "python3"
  },
  "language_info": {
   "codemirror_mode": {
    "name": "ipython",
    "version": 3
   },
   "file_extension": ".py",
   "mimetype": "text/x-python",
   "name": "python",
   "nbconvert_exporter": "python",
   "pygments_lexer": "ipython3",
   "version": "3.8.0"
  }
 },
 "nbformat": 4,
 "nbformat_minor": 4
}

